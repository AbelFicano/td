{
 "cells": [
  {
   "cell_type": "markdown",
   "metadata": {},
   "source": [
    "## Task 1\n",
    "\n",
    "La piedinatura dell'integrato è quella della figura seguente.\n",
    "\n",
    "<img src=https://n11scdn.akamaized.net/a1/375_535/08/94/90/38/IMG-4603651537040319685.jpg alt=“OP77” title=“OP77” />\n",
    "\n",
    "I voltaggi di alimentazione $\\pm Vs$ si trovano rispettivamente in 7 e 4, i voltaggi di input $V+$ e $V-$ si trovano rispettivamente in 3 e 2 e il voltaggio di output $Vout$ si trova in 6.\n",
    "\n",
    "Dal <a href=https://www.analog.com/media/en/technical-documentation/data-sheets/OP77.pdf>datasheet</a> vediamo che l'absolute maximum rating del voltaggio di alimentazione del modello usato (OP77) è $\\pm 22 \\rm V$."
   ]
  },
  {
   "cell_type": "markdown",
   "metadata": {},
   "source": [
    "## Task 2\n",
    "\n",
    "Le misure dei voltaggi effettivi erogati sono:\n",
    "* $V+ = 4.993 \\rm V$\n",
    "* $V- = 4.997 \\rm V$"
   ]
  },
  {
   "cell_type": "markdown",
   "metadata": {},
   "source": [
    "## Task 3\n",
    "\n",
    "Mandando una sinusoide standard nel circuito, otteniamo come desiderato un segnale in uscita che è il segnale in ingresso amplificato circa di 11 e invertito.\n",
    "\n",
    "Variando l'ampiezza del segnale in ingresso, otteniamo il grafico <a href=https://uz.sns.it/~abelficano/td/s03/AmplificatoreInvertente.pdf>`AmplificatoreInvertente.pdf`</a>.\n",
    "\n",
    "Si nota che quando $Vout$ si avvicina alle tensioni di alimentazione il segnale in uscita viene tagliato ai valori $-2.7643 \\rm V$ e $2.7635 \\rm V$."
   ]
  },
  {
   "cell_type": "markdown",
   "metadata": {},
   "source": [
    "## Task 4\n",
    "\n",
    "In questo caso si ottiene il grafico <a href=https://uz.sns.it/~abelficano/td/s03/AmplificatoreNonInvertente.pdf>`AmplificatoreNonInvertente.pdf`</a>.\n",
    "\n",
    "L'onda viene correttamente amplificata senza essere invertita per valori bassi dell'ampiezza e, come prima, viene tagliata per i valori minori di $-2.7643 \\rm V$ o maggiori di $2.7635 \\rm V$.\n",
    "\n"
   ]
  },
  {
   "cell_type": "markdown",
   "metadata": {},
   "source": [
    "## Task 5\n",
    "\n",
    "Abbiamo acquisito le misure in frequenza per 5 volte (andata e ritorno) fra le frequenze $1 \\rm Hz$ e $10^5 \\rm Hz$ in 100 punti, prendendo come dati le medie e come errori la deviazione standard sulle misure.\n",
    "\n",
    "Abbiamo così fatto il fit sulla funzione di risposta\n",
    "\\begin{equation*}f(\\omega) = \\frac{i \\omega \\tau_1}{(1+i\\omega \\tau_1)(1+i\\omega \\tau_2)}\\end{equation*}\n",
    "dove $\\tau_1 = R_1 C_1$ e $\\tau_2 = R_2 C_2$, cioè sul prodotto dei guadagna di un filtro passa basso e un filtro passa alto (più precisamente su $G = |f(\\omega)|$ e su $\\phi = \\arg(f(\\omega))$).\n",
    "\n",
    "I risultati del fit su $G$ sono $t_1 = (1.534 \\pm 0.003) \\rm ms$ e $t_2 = (6.82 \\pm 0.01) \\rm{\\mu s}$ con $\\chi ^2 = 0.02$.\n",
    "\n",
    "<img src=https://uz.sns.it/~abelficano/td/s03/guadagno.png alt=guadagno title=guadagno/>\n",
    "\n",
    "I risultati del fit su $\\phi$ sono $t_1 = (1.49 \\pm 0.05) \\rm ms$ e $t_2 = (7.46 \\pm 0.07) \\rm{\\mu s}$ con $\\chi ^2 = 1$.\n",
    "\n",
    "<img src=https://uz.sns.it/~abelficano/td/s03/fase.png alt=fase title=fase/>\n",
    "\n",
    "Abbiamo così verificato che il prodotto delle due funzioni di risposta fitta abbastanza bene i dati."
   ]
  },
  {
   "cell_type": "markdown",
   "metadata": {},
   "source": [
    "Ora consideriamo i dati ottenuti dai filtri presi separatamente e i fit sulle corrispondenti funzioni di risposta\n",
    "\\begin{equation*}f(\\omega) = \\frac{i \\omega \\tau_1}{(1+i\\omega \\tau_1)}\\end{equation*}\n",
    "per il filtro passa alto e\n",
    "\\begin{equation*}f(\\omega) = \\frac{1}{(1+i\\omega \\tau_2)}\\end{equation*}\n",
    "per il filtro passa basso.\n",
    "\n",
    "I risultati dei fit sono:\n",
    "\n",
    "- Fit passa alto sul guadagno:\n",
    "    - $\\tau_1 = (1.416 \\pm 0.005)\\rm{ms}$\n",
    "    - $\\chi^2 = 0.02$\n",
    "\n",
    "- Fit passa alto sulla fase:\n",
    "    - $\\tau_1 = (1.4219 \\pm 0.0006)\\rm{ms}$\n",
    "    - $\\chi^2 = 7 \\times 10^{-4}$\n",
    "\n",
    "- Fit passa basso sul guadagno:\n",
    "    - $\\tau_2 = (7.032 \\pm 0.008)\\rm{\\mu s}$\n",
    "    - $\\chi^2 = 0.03$\n",
    "\n",
    "- Fit passa basso sulla fase:\n",
    "    - $\\tau_2 = (7.002 \\pm 0.001)\\rm{\\mu s}$\n",
    "    - $\\chi^2 = 8 \\times 10^{-4}$\n",
    "\n",
    "I risultati ottenuti sono compatibili con quelli del fit sul filtro passa banda.\n"
   ]
  },
  {
   "cell_type": "markdown",
   "metadata": {},
   "source": [
    "Ora verifichiamo se anche numericamente la funzione di risposta è uguale al prodotto delle funzioni di risposta disaccoppiate: grafichiamo quindi il guadagno del passa banda insieme al prodotto dei guadagni disaccoppiati e la fase del passa banda insieme alla somma delle fasi disaccopiate:\n",
    "\n",
    "<img src=https://uz.sns.it/~abelficano/td/s03/guadagno_cfr.png alt=guadagno title=guadagno/>\n",
    "\n",
    "<img src=https://uz.sns.it/~abelficano/td/s03/fase_cfr.png alt=fase title=fase/>\n",
    "\n",
    "Notiamo che l'accordo è buono, eccezion fatta per la fase ad alte frequenze.\n"
   ]
  }
 ],
 "metadata": {
  "language_info": {
   "name": "python"
  }
 },
 "nbformat": 4,
 "nbformat_minor": 2
}
