{
 "cells": [
  {
   "cell_type": "markdown",
   "metadata": {},
   "source": [
    "### Task 1\n",
    "\n",
    "Poiché la corrente di funzionamento dei LED usati è di circa $20$ $\\rm{mA}$, scegliamo la resistenza in modo che $\\frac{V_0}{R} \\leq 20$ $\\rm{mA}$. Poiché l'alimentazione fornisce una tensione massima di $5$ $\\rm{V}$, utilizziamo una resistenza da $470$ $\\rm{\\Omega}$.\n"
   ]
  },
  {
   "cell_type": "markdown",
   "metadata": {},
   "source": [
    "### Task 2\n",
    "Aumentando gradualmente la tensione in alimentazione, misuriamo la differenza di potenziale ai capi del LED e ai capi della resistenza (quest'ultima fornisce una misura indiretta della corrente attraverso il LED). I risultati per i LED a nostra disposizione sono forniti nel file ```LED.pdf```. Come ci si aspetta, ogni LED ha una tensione di attivazione prima della quale la corrente (e la potenza utilizzata) è vicina allo 0, che nei grafici riportati per comodità è scelta come valore di inizio. Dopo questa soglia il grafico appare come una retta leggermente concava, compatibilmente con la previsione del modello di un esponenziale con un termine costante."
   ]
  },
  {
   "cell_type": "markdown",
   "metadata": {},
   "source": [
    "### Task 3\n",
    "Misuriamo media e deviazione standard degli spettri forniti. Per eliminare il fondo, sottraiamo da ciascuna distribuzione il suo minimo. Alcuni spettri presentano più picchi, dei quali selezioniamo solo il più intenso. Misuriamo poi media e deviazione standard utilizzando come peso il dato a nostra disposizione. I risultati ottenuti sono i seguenti:\n",
    "| Colore | Media $\\pm$ deviazione standard [$\\rm{nm}$] |\n",
    "| --- | --- |\n",
    "| Rosso | $628 \\pm 10$ |\n",
    "| Arancione | $610 \\pm 12$ |\n",
    "| Giallo | $592 \\pm 10$ |\n",
    "| Verde | $530 \\pm 16$ |\n",
    "| Blu | $463 \\pm 13$ |\n",
    "| Viola | $401 \\pm 9$ |\n"
   ]
  },
  {
   "cell_type": "markdown",
   "metadata": {},
   "source": [
    "### Task 4\n",
    "Per evitare effetti di saturazione, decidiamo di scegliere una tensione di riferimento che si trova al centro dell'intervallo di misura per tutti i LED. Per ispezione dei grafici decidiamo $I_soglia = 200$ $\\rm{mA}$. Poiché non tutte le serie di dati presentano il valore di $V$ corrispondente a $I_soglia$, consideriamo il valore ottenuto interpolando tra i punti corrispondenti ai due valori di $I$ più vicini. Disegniamo poi il grafico di $V$ rispetto a $\\frac{1}{\\lambda}$ presentato in ```Planck.pdf```."
   ]
  },
  {
   "cell_type": "markdown",
   "metadata": {},
   "source": [
    "### Task 5\n",
    "Eseguiamo un fit lineare. Ci aspettiamo che il coefficiente angolare ottenuto sia una misura del valore di $\\frac{e}{hc}$. Dando per buoni i valori di $e$ e $c$, otteniamo $h = (7,1 \\pm 0,4)*10^{-34}$ $\\rm{J}*\\rm{s}$."
   ]
  },
  {
   "cell_type": "markdown",
   "metadata": {},
   "source": [
    "### Task 6\n",
    "Valutare la linearità in maniera precisa, essendo la precisione di controllo a nostra disposizione per l'intensità luminosa poca, non ci risulta possibile. Possiamo però affermare che in modalità a circuito aperto la risposta del fotodiodo alle fonti luminose a nostra disposizione è debole rispetto alla risposta al rumore, mentre è significativa a circuito chiuso. Ciò giustifica il nostro utilizzo della modalità a circuito chiuso per le misure seguenti."
   ]
  },
  {
   "cell_type": "markdown",
   "metadata": {},
   "source": [
    "### Task 7\n",
    "Si nota la presenza di un rumore di fondo, marcatamente più intenso nei laboratori del polo Fibonacci rispetto alla stanza in cui stiamo terminando l'esperimento, in ogni caso non abbastanza intenso da impedire le misure. Come qualitativamente ci si aspetta, il fotodiodo risponde alle fonti luminose con una corrente. La corrente di buio è troppo piccola per essere misurata in modo preciso (dell'ordine del decimo di $\\mu{A}$)."
   ]
  },
  {
   "cell_type": "markdown",
   "metadata": {},
   "source": [
    "### Task 8\n",
    "Poiché a regime la potenza emessa dal LED è proporzionale all'intensità di corrente che lo attraversa, confrontiamo la corrente attraverso il LED con quella attraverso il fotodiodo. Per il LED rosso (il comportamento è analogo per tutti gli altri) il grafico è disponibile nel file ```grafico.pdf```. Si nota un comportamento coerente con quello atteso, cioè l'andamento è lineare per un'ampia gamma di intensità luminose."
   ]
  },
  {
   "cell_type": "markdown",
   "metadata": {},
   "source": []
  }
 ],
 "metadata": {
  "language_info": {
   "name": "python"
  }
 },
 "nbformat": 4,
 "nbformat_minor": 2
}
