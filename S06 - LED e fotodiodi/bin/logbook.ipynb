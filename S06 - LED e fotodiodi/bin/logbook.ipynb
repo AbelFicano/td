{
 "cells": [
  {
   "cell_type": "markdown",
   "metadata": {},
   "source": [
    "## Task 1\n",
    "LED rosso:\n",
    "- Corrente di funzionamento: 20 mA\n",
    "- Voltaggio di funzionamento: 2-2.2 V\n",
    "- Intensità luminosa: 600-800 mcd"
   ]
  },
  {
   "cell_type": "markdown",
   "metadata": {},
   "source": [
    "## Task 2\n"
   ]
  },
  {
   "cell_type": "markdown",
   "metadata": {},
   "source": []
  }
 ],
 "metadata": {
  "language_info": {
   "name": "python"
  }
 },
 "nbformat": 4,
 "nbformat_minor": 2
}
