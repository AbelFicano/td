{
 "cells": [
  {
   "cell_type": "markdown",
   "metadata": {},
   "source": [
    "## Task 1\n",
    "\n",
    "L'output dell'OpAmp raggiunge la saturazione massima $V_{max} = 5.3\\:\\mathrm{V}$. Quindi la corrente massima erogabile è pari $(V_{max}-V_{LED})/R_{LED}$.\n",
    "\n",
    "Nel seguito useremo $R_{LED} = 470\\:\\mathrm{\\Omega}$."
   ]
  },
  {
   "cell_type": "markdown",
   "metadata": {},
   "source": [
    "## Task 2\n",
    "\n",
    "Il voltaggio corrispondente alla corrente di buio è $V_{buio} = (-31.8 \\pm 5.5) \\:\\mathrm{mV}$, quindi la corrente di buio è $I_{buio} = (3.18 \\pm 0.55) \\:\\mathrm{\\mu A}$."
   ]
  },
  {
   "cell_type": "markdown",
   "metadata": {},
   "source": [
    "## Task 3\n",
    "\n",
    "Lo spessore interno delle cuvette è $d = 1.05\\:\\mathrm{cm}$."
   ]
  },
  {
   "cell_type": "markdown",
   "metadata": {},
   "source": [
    "## Task 4\n",
    "\n",
    "Usiamo $R_{PD} = 10\\:\\mathrm{k\\Omega}$. "
   ]
  },
  {
   "cell_type": "markdown",
   "metadata": {},
   "source": [
    "## Task 5\n",
    "\n",
    "\n"
   ]
  }
 ],
 "metadata": {
  "language_info": {
   "name": "python"
  }
 },
 "nbformat": 4,
 "nbformat_minor": 2
}
