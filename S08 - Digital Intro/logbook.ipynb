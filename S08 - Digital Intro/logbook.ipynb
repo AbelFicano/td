{
 "cells": [
  {
   "cell_type": "markdown",
   "metadata": {},
   "source": [
    "## Task 1\n",
    "\n",
    "Il voltaggio di threshold tipico è $V_p = 2.1\\:\\mathrm{V}$.\n",
    "La piedinatura è come in figura, con G il gate (base), D il drain (collettore)e S il source (emettitore).\n",
    "\n",
    "<img src=https://uz.sns.it/~abelficano/td/s08/bs170.png alt=piedinatura title=piedinatura width=300>"
   ]
  },
  {
   "cell_type": "markdown",
   "metadata": {},
   "source": [
    "## Task 2\n",
    "\n",
    "I valori approssimativi sono:\n",
    "- $V_{OH} = 4.92\\:\\mathrm{V}$\n",
    "- $V_{OL} = 0.13\\:\\mathrm{V}$\n",
    "- $V_{IH} = 2.48\\:\\mathrm{V}$\n",
    "- $V_{IL} = 1.97\\:\\mathrm{V}$\n",
    "\n",
    "e sono stati ricavati dal grafico seguente:\n",
    "\n",
    "<img src=https://uz.sns.it/~abelficano/td/s08/slope.png alt=grafico title=grafico width=600>"
   ]
  },
  {
   "cell_type": "markdown",
   "metadata": {},
   "source": [
    "## Task 3\n",
    "\n",
    "<img src=https://uz.sns.it/~abelficano/td/s08/characteristics.png alt=grafico title=grafico width=600>"
   ]
  },
  {
   "cell_type": "markdown",
   "metadata": {},
   "source": [
    "## Task 4\n",
    "\n",
    "<img src=https://uz.sns.it/~abelficano/td/s08/cd4011b.png alt=piedinatura title=piedinatura width=300>"
   ]
  },
  {
   "cell_type": "markdown",
   "metadata": {},
   "source": [
    "## Task 5\n",
    "\n",
    "Il voltaggio di soglia è $V_{soglia} = 2.33\\:\\mathrm{V}$, come si deduce dal grafico seguente:\n",
    "\n",
    "<img src=https://uz.sns.it/~abelficano/td/s08/soglia.png alt=grafico title=grafico width=600>"
   ]
  },
  {
   "cell_type": "markdown",
   "metadata": {},
   "source": [
    "## Task 6"
   ]
  },
  {
   "cell_type": "markdown",
   "metadata": {},
   "source": []
  }
 ],
 "metadata": {
  "language_info": {
   "name": "python"
  }
 },
 "nbformat": 4,
 "nbformat_minor": 2
}
