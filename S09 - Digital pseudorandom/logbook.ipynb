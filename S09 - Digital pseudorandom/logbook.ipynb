{
 "cells": [
  {
   "cell_type": "markdown",
   "metadata": {},
   "source": [
    "## Task 1\n",
    "\n",
    "La piedinatura è quella visibile in figura:\n",
    "\n",
    "<img src=https://uz.sns.it/~abelficano/td/s09/pinning_diagram_flipflop.png alt=guadagno title=guadagno width=300>\n",
    "\n",
    "Con:\n",
    "- $D$ data inputs\n",
    "- $CP$ clock input\n",
    "- $S_D$ asynchronous set-direct input\n",
    "- $C_D$ asyncronous clear-direct input\n",
    "- $O$ true output\n",
    "- $\\bar{O}$ complement output"
   ]
  },
  {
   "cell_type": "markdown",
   "metadata": {},
   "source": [
    "## Task 2\n",
    "\n",
    "Set e reset vanno configurati entrambi a 0 affinché il divisore di frequenza funzioni correttamente."
   ]
  },
  {
   "cell_type": "markdown",
   "metadata": {},
   "source": [
    "## Task 3\n",
    "\n"
   ]
  },
  {
   "cell_type": "markdown",
   "metadata": {},
   "source": [
    "## Task 4"
   ]
  },
  {
   "cell_type": "markdown",
   "metadata": {},
   "source": [
    "## Task 5\n",
    "\n",
    "Piedinatura:\n",
    "\n",
    "<img src=https://uz.sns.it/~abelficano/td/s09/pinning_diagram_shiftregister.png alt=guadagno title=guadagno width=300>"
   ]
  },
  {
   "cell_type": "markdown",
   "metadata": {},
   "source": []
  }
 ],
 "metadata": {
  "language_info": {
   "name": "python"
  }
 },
 "nbformat": 4,
 "nbformat_minor": 2
}
